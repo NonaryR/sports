{
 "cells": [
  {
   "cell_type": "code",
   "execution_count": 1,
   "metadata": {
    "collapsed": true,
    "urth": {
     "dashboard": {}
    }
   },
   "outputs": [],
   "source": [
    "import pandas as pd\n",
    "import matplotlib.pyplot as plt\n",
    "import seaborn as sns\n",
    "from collections import defaultdict, Counter\n",
    "from datetime import datetime\n",
    "%matplotlib inline\n",
    "sns.set()"
   ]
  },
  {
   "cell_type": "code",
   "execution_count": 2,
   "metadata": {
    "collapsed": true,
    "urth": {
     "dashboard": {}
    }
   },
   "outputs": [],
   "source": [
    "click = pd.read_csv(\"clicks.csv\")"
   ]
  },
  {
   "cell_type": "code",
   "execution_count": 3,
   "metadata": {
    "collapsed": false
   },
   "outputs": [
    {
     "data": {
      "text/html": [
       "<div>\n",
       "<table border=\"1\" class=\"dataframe\">\n",
       "  <thead>\n",
       "    <tr style=\"text-align: right;\">\n",
       "      <th></th>\n",
       "      <th>tracking_id</th>\n",
       "      <th>click_id</th>\n",
       "      <th>click_datetime</th>\n",
       "      <th>CPI</th>\n",
       "    </tr>\n",
       "  </thead>\n",
       "  <tbody>\n",
       "    <tr>\n",
       "      <th>0</th>\n",
       "      <td>1033522010023579020</td>\n",
       "      <td>22817403-1473191644-1641538988</td>\n",
       "      <td>2016-09-06 22:54:04</td>\n",
       "      <td>0.786682</td>\n",
       "    </tr>\n",
       "    <tr>\n",
       "      <th>1</th>\n",
       "      <td>1033522010023579020</td>\n",
       "      <td>22817403-1473191680-501021762</td>\n",
       "      <td>2016-09-06 22:54:40</td>\n",
       "      <td>0.786682</td>\n",
       "    </tr>\n",
       "    <tr>\n",
       "      <th>2</th>\n",
       "      <td>1033522010023579020</td>\n",
       "      <td>22817403-1473193873-1098301704</td>\n",
       "      <td>2016-09-06 23:31:13</td>\n",
       "      <td>0.786682</td>\n",
       "    </tr>\n",
       "    <tr>\n",
       "      <th>3</th>\n",
       "      <td>1033522010023579020</td>\n",
       "      <td>22817403-1473195092-622681650</td>\n",
       "      <td>2016-09-06 23:51:32</td>\n",
       "      <td>0.786682</td>\n",
       "    </tr>\n",
       "    <tr>\n",
       "      <th>4</th>\n",
       "      <td>1033522010023579020</td>\n",
       "      <td>22817403-1473189457-258078900</td>\n",
       "      <td>2016-09-06 22:17:37</td>\n",
       "      <td>0.786682</td>\n",
       "    </tr>\n",
       "  </tbody>\n",
       "</table>\n",
       "</div>"
      ],
      "text/plain": [
       "           tracking_id                        click_id       click_datetime  \\\n",
       "0  1033522010023579020  22817403-1473191644-1641538988  2016-09-06 22:54:04   \n",
       "1  1033522010023579020   22817403-1473191680-501021762  2016-09-06 22:54:40   \n",
       "2  1033522010023579020  22817403-1473193873-1098301704  2016-09-06 23:31:13   \n",
       "3  1033522010023579020   22817403-1473195092-622681650  2016-09-06 23:51:32   \n",
       "4  1033522010023579020   22817403-1473189457-258078900  2016-09-06 22:17:37   \n",
       "\n",
       "        CPI  \n",
       "0  0.786682  \n",
       "1  0.786682  \n",
       "2  0.786682  \n",
       "3  0.786682  \n",
       "4  0.786682  "
      ]
     },
     "execution_count": 3,
     "metadata": {},
     "output_type": "execute_result"
    }
   ],
   "source": [
    "click.head()"
   ]
  },
  {
   "cell_type": "code",
   "execution_count": 4,
   "metadata": {
    "collapsed": true,
    "urth": {
     "dashboard": {}
    }
   },
   "outputs": [],
   "source": [
    "app = pd.read_csv(\"app_users.csv\")"
   ]
  },
  {
   "cell_type": "code",
   "execution_count": 5,
   "metadata": {
    "collapsed": false
   },
   "outputs": [
    {
     "data": {
      "text/html": [
       "<div>\n",
       "<table border=\"1\" class=\"dataframe\">\n",
       "  <thead>\n",
       "    <tr style=\"text-align: right;\">\n",
       "      <th></th>\n",
       "      <th>tracking_id</th>\n",
       "      <th>click_id</th>\n",
       "      <th>install_datetime</th>\n",
       "      <th>os_version</th>\n",
       "      <th>device_manufacturer</th>\n",
       "      <th>device_model</th>\n",
       "      <th>device_type</th>\n",
       "      <th>device_locale</th>\n",
       "      <th>revenue</th>\n",
       "    </tr>\n",
       "  </thead>\n",
       "  <tbody>\n",
       "    <tr>\n",
       "      <th>0</th>\n",
       "      <td>1033522010023579020</td>\n",
       "      <td>22817403-1473193873-1098301704</td>\n",
       "      <td>2016-09-06 23:51:28</td>\n",
       "      <td>4.2.2</td>\n",
       "      <td>Lenovo</td>\n",
       "      <td>Lenovo A316i</td>\n",
       "      <td>phone</td>\n",
       "      <td>ru-RU</td>\n",
       "      <td>1.662699</td>\n",
       "    </tr>\n",
       "    <tr>\n",
       "      <th>1</th>\n",
       "      <td>1033522010023579020</td>\n",
       "      <td>22817403-1473195092-622681650</td>\n",
       "      <td>2016-09-07 00:11:19</td>\n",
       "      <td>5.0.2</td>\n",
       "      <td>Samsung</td>\n",
       "      <td>Galaxy A3</td>\n",
       "      <td>phone</td>\n",
       "      <td>ru-RU</td>\n",
       "      <td>1.863439</td>\n",
       "    </tr>\n",
       "    <tr>\n",
       "      <th>2</th>\n",
       "      <td>1033522010023579020</td>\n",
       "      <td>22817403-1473189457-258078900</td>\n",
       "      <td>2016-09-06 22:18:50</td>\n",
       "      <td>4.4.2</td>\n",
       "      <td>HTC</td>\n",
       "      <td>HTC Desire 601</td>\n",
       "      <td>phone</td>\n",
       "      <td>ru-RU</td>\n",
       "      <td>1.520538</td>\n",
       "    </tr>\n",
       "    <tr>\n",
       "      <th>3</th>\n",
       "      <td>1033522010023579020</td>\n",
       "      <td>22817403-1473192316-1183289285</td>\n",
       "      <td>2016-09-06 23:06:59</td>\n",
       "      <td>6.0</td>\n",
       "      <td>Huawei</td>\n",
       "      <td>CHM-U01</td>\n",
       "      <td>phone</td>\n",
       "      <td>ru-RU</td>\n",
       "      <td>1.781050</td>\n",
       "    </tr>\n",
       "    <tr>\n",
       "      <th>4</th>\n",
       "      <td>1033522010023579020</td>\n",
       "      <td>22817403-1473188854-1249048763</td>\n",
       "      <td>2016-09-06 22:20:11</td>\n",
       "      <td>4.4.2</td>\n",
       "      <td>Samsung</td>\n",
       "      <td>Galaxy S4 Mini</td>\n",
       "      <td>phone</td>\n",
       "      <td>ru-RU</td>\n",
       "      <td>1.669396</td>\n",
       "    </tr>\n",
       "  </tbody>\n",
       "</table>\n",
       "</div>"
      ],
      "text/plain": [
       "           tracking_id                        click_id     install_datetime  \\\n",
       "0  1033522010023579020  22817403-1473193873-1098301704  2016-09-06 23:51:28   \n",
       "1  1033522010023579020   22817403-1473195092-622681650  2016-09-07 00:11:19   \n",
       "2  1033522010023579020   22817403-1473189457-258078900  2016-09-06 22:18:50   \n",
       "3  1033522010023579020  22817403-1473192316-1183289285  2016-09-06 23:06:59   \n",
       "4  1033522010023579020  22817403-1473188854-1249048763  2016-09-06 22:20:11   \n",
       "\n",
       "  os_version device_manufacturer    device_model device_type device_locale  \\\n",
       "0      4.2.2              Lenovo    Lenovo A316i       phone         ru-RU   \n",
       "1      5.0.2             Samsung       Galaxy A3       phone         ru-RU   \n",
       "2      4.4.2                 HTC  HTC Desire 601       phone         ru-RU   \n",
       "3        6.0              Huawei         CHM-U01       phone         ru-RU   \n",
       "4      4.4.2             Samsung  Galaxy S4 Mini       phone         ru-RU   \n",
       "\n",
       "    revenue  \n",
       "0  1.662699  \n",
       "1  1.863439  \n",
       "2  1.520538  \n",
       "3  1.781050  \n",
       "4  1.669396  "
      ]
     },
     "execution_count": 5,
     "metadata": {},
     "output_type": "execute_result"
    }
   ],
   "source": [
    "app.head()"
   ]
  },
  {
   "cell_type": "markdown",
   "metadata": {},
   "source": [
    "*Смержим таблицы*, для построения статистики"
   ]
  },
  {
   "cell_type": "code",
   "execution_count": 6,
   "metadata": {
    "collapsed": false,
    "urth": {
     "dashboard": {}
    }
   },
   "outputs": [],
   "source": [
    "df = pd.merge(click, app, on=['tracking_id', 'click_id'], how='outer')"
   ]
  },
  {
   "cell_type": "code",
   "execution_count": 7,
   "metadata": {
    "collapsed": false
   },
   "outputs": [
    {
     "data": {
      "text/html": [
       "<div>\n",
       "<table border=\"1\" class=\"dataframe\">\n",
       "  <thead>\n",
       "    <tr style=\"text-align: right;\">\n",
       "      <th></th>\n",
       "      <th>tracking_id</th>\n",
       "      <th>click_id</th>\n",
       "      <th>click_datetime</th>\n",
       "      <th>CPI</th>\n",
       "      <th>install_datetime</th>\n",
       "      <th>os_version</th>\n",
       "      <th>device_manufacturer</th>\n",
       "      <th>device_model</th>\n",
       "      <th>device_type</th>\n",
       "      <th>device_locale</th>\n",
       "      <th>revenue</th>\n",
       "    </tr>\n",
       "  </thead>\n",
       "  <tbody>\n",
       "    <tr>\n",
       "      <th>0</th>\n",
       "      <td>1033522010023579020</td>\n",
       "      <td>22817403-1473191644-1641538988</td>\n",
       "      <td>2016-09-06 22:54:04</td>\n",
       "      <td>0.786682</td>\n",
       "      <td>NaN</td>\n",
       "      <td>NaN</td>\n",
       "      <td>NaN</td>\n",
       "      <td>NaN</td>\n",
       "      <td>NaN</td>\n",
       "      <td>NaN</td>\n",
       "      <td>NaN</td>\n",
       "    </tr>\n",
       "    <tr>\n",
       "      <th>1</th>\n",
       "      <td>1033522010023579020</td>\n",
       "      <td>22817403-1473191680-501021762</td>\n",
       "      <td>2016-09-06 22:54:40</td>\n",
       "      <td>0.786682</td>\n",
       "      <td>NaN</td>\n",
       "      <td>NaN</td>\n",
       "      <td>NaN</td>\n",
       "      <td>NaN</td>\n",
       "      <td>NaN</td>\n",
       "      <td>NaN</td>\n",
       "      <td>NaN</td>\n",
       "    </tr>\n",
       "    <tr>\n",
       "      <th>2</th>\n",
       "      <td>1033522010023579020</td>\n",
       "      <td>22817403-1473193873-1098301704</td>\n",
       "      <td>2016-09-06 23:31:13</td>\n",
       "      <td>0.786682</td>\n",
       "      <td>2016-09-06 23:51:28</td>\n",
       "      <td>4.2.2</td>\n",
       "      <td>Lenovo</td>\n",
       "      <td>Lenovo A316i</td>\n",
       "      <td>phone</td>\n",
       "      <td>ru-RU</td>\n",
       "      <td>1.662699</td>\n",
       "    </tr>\n",
       "    <tr>\n",
       "      <th>3</th>\n",
       "      <td>1033522010023579020</td>\n",
       "      <td>22817403-1473195092-622681650</td>\n",
       "      <td>2016-09-06 23:51:32</td>\n",
       "      <td>0.786682</td>\n",
       "      <td>2016-09-07 00:11:19</td>\n",
       "      <td>5.0.2</td>\n",
       "      <td>Samsung</td>\n",
       "      <td>Galaxy A3</td>\n",
       "      <td>phone</td>\n",
       "      <td>ru-RU</td>\n",
       "      <td>1.863439</td>\n",
       "    </tr>\n",
       "    <tr>\n",
       "      <th>4</th>\n",
       "      <td>1033522010023579020</td>\n",
       "      <td>22817403-1473189457-258078900</td>\n",
       "      <td>2016-09-06 22:17:37</td>\n",
       "      <td>0.786682</td>\n",
       "      <td>2016-09-06 22:18:50</td>\n",
       "      <td>4.4.2</td>\n",
       "      <td>HTC</td>\n",
       "      <td>HTC Desire 601</td>\n",
       "      <td>phone</td>\n",
       "      <td>ru-RU</td>\n",
       "      <td>1.520538</td>\n",
       "    </tr>\n",
       "  </tbody>\n",
       "</table>\n",
       "</div>"
      ],
      "text/plain": [
       "           tracking_id                        click_id       click_datetime  \\\n",
       "0  1033522010023579020  22817403-1473191644-1641538988  2016-09-06 22:54:04   \n",
       "1  1033522010023579020   22817403-1473191680-501021762  2016-09-06 22:54:40   \n",
       "2  1033522010023579020  22817403-1473193873-1098301704  2016-09-06 23:31:13   \n",
       "3  1033522010023579020   22817403-1473195092-622681650  2016-09-06 23:51:32   \n",
       "4  1033522010023579020   22817403-1473189457-258078900  2016-09-06 22:17:37   \n",
       "\n",
       "        CPI     install_datetime os_version device_manufacturer  \\\n",
       "0  0.786682                  NaN        NaN                 NaN   \n",
       "1  0.786682                  NaN        NaN                 NaN   \n",
       "2  0.786682  2016-09-06 23:51:28      4.2.2              Lenovo   \n",
       "3  0.786682  2016-09-07 00:11:19      5.0.2             Samsung   \n",
       "4  0.786682  2016-09-06 22:18:50      4.4.2                 HTC   \n",
       "\n",
       "     device_model device_type device_locale   revenue  \n",
       "0             NaN         NaN           NaN       NaN  \n",
       "1             NaN         NaN           NaN       NaN  \n",
       "2    Lenovo A316i       phone         ru-RU  1.662699  \n",
       "3       Galaxy A3       phone         ru-RU  1.863439  \n",
       "4  HTC Desire 601       phone         ru-RU  1.520538  "
      ]
     },
     "execution_count": 7,
     "metadata": {},
     "output_type": "execute_result"
    }
   ],
   "source": [
    "df.head()"
   ]
  },
  {
   "cell_type": "markdown",
   "metadata": {},
   "source": [
    "Мы можем считать эффективность маркетинговой кампании в зависимости от **заложенного KPI**. \n",
    "\n",
    "Я в своем задании постараюсь рассмотреть основные."
   ]
  },
  {
   "cell_type": "markdown",
   "metadata": {},
   "source": [
    "Для того, чтобы оценить эффективность кампании я предлагаю два способа:\n",
    "1. Доверимся беспристрастной машине, и на каждой итерации будем выявлять самую лучшую кампанию, и прибавлять к ней единичку. В конце посмотрим, какая из кампаний суммарно будет лучшей;\n",
    "2. Заведем табличку, в которую будем записывать значения статистики для каждой кампании по каждому срезу и потом:  \n",
    "  * сравним с п.1  \n",
    "  * посмотрим \"глазами\", постараемся выявить лучшую"
   ]
  },
  {
   "cell_type": "code",
   "execution_count": null,
   "metadata": {
    "collapsed": true
   },
   "outputs": [],
   "source": [
    "tablo = defaultdict(int)\n",
    "for i in df.tracking_id.unique():\n",
    "    tablo[i] = 0\n",
    "\n",
    "def heartless_machine(tablo, result, function):\n",
    "    for k, v in result.iteritems():\n",
    "        if v == function(result.values):\n",
    "            tablo[k] += 1"
   ]
  },
  {
   "cell_type": "code",
   "execution_count": 9,
   "metadata": {
    "collapsed": false
   },
   "outputs": [],
   "source": [
    "def stat_table(table, result, col_name):\n",
    "    stat_table = pd.concat([table, result], axis=1)\n",
    "    stat_table.columns = [i for i in stat_table.columns[:-1]] + [col_name]\n",
    "    return stat_table"
   ]
  },
  {
   "cell_type": "markdown",
   "metadata": {},
   "source": [
    "Оценим **revenue** каждой кампании"
   ]
  },
  {
   "cell_type": "code",
   "execution_count": 10,
   "metadata": {
    "collapsed": false
   },
   "outputs": [
    {
     "data": {
      "text/plain": [
       "tracking_id\n",
       "457095801521389451       988.119196\n",
       "457100182639649595      1629.568463\n",
       "529165038158632239       829.185564\n",
       "817383831807028900       855.027816\n",
       "1033522010023579020    10578.888807\n",
       "1105628863007835516      123.641566\n",
       "Name: revenue, dtype: float64"
      ]
     },
     "execution_count": 10,
     "metadata": {},
     "output_type": "execute_result"
    }
   ],
   "source": [
    "revenue = df.groupby('tracking_id')['revenue'].sum()\n",
    "tmp_stat = pd.DataFrame(revenue, columns=['revenue'])\n",
    "heartless_machine(tablo=tablo, result=revenue, function=max)\n",
    "revenue"
   ]
  },
  {
   "cell_type": "markdown",
   "metadata": {},
   "source": [
    "Компания **__....20__** с лучшей выручкой. Но идем дальше"
   ]
  },
  {
   "cell_type": "markdown",
   "metadata": {},
   "source": [
    "Оценим **процент числа установок в компании от числа кликов**"
   ]
  },
  {
   "cell_type": "code",
   "execution_count": 11,
   "metadata": {
    "collapsed": false
   },
   "outputs": [
    {
     "data": {
      "text/plain": [
       "tracking_id\n",
       "457095801521389451      8.121181\n",
       "457100182639649595      8.815635\n",
       "529165038158632239     11.992827\n",
       "817383831807028900     10.849980\n",
       "1033522010023579020    13.204957\n",
       "1105628863007835516    11.654676\n",
       "dtype: float64"
      ]
     },
     "execution_count": 11,
     "metadata": {},
     "output_type": "execute_result"
    }
   ],
   "source": [
    "inst_click = df.groupby('tracking_id').count().install_datetime/df.groupby('tracking_id').count().click_id * 100\n",
    "tmp_stat = stat_table(table=tmp_stat, result=inst_click, col_name='inst_click')\n",
    "heartless_machine(tablo=tablo, result=inst_click, function=max)\n",
    "inst_click"
   ]
  },
  {
   "cell_type": "markdown",
   "metadata": {},
   "source": [
    "И опять, та же кампания в лидерах -- больше всего людей установило после клика"
   ]
  },
  {
   "cell_type": "markdown",
   "metadata": {},
   "source": [
    "**Выручка/число установок**"
   ]
  },
  {
   "cell_type": "code",
   "execution_count": 12,
   "metadata": {
    "collapsed": false
   },
   "outputs": [
    {
     "data": {
      "text/plain": [
       "tracking_id\n",
       "457095801521389451     1.548776\n",
       "457100182639649595     1.550493\n",
       "529165038158632239     1.549880\n",
       "817383831807028900     1.543372\n",
       "1033522010023579020    1.548886\n",
       "1105628863007835516    1.526439\n",
       "dtype: float64"
      ]
     },
     "execution_count": 12,
     "metadata": {},
     "output_type": "execute_result"
    }
   ],
   "source": [
    "revenue_by_install = df.groupby('tracking_id')['revenue'].sum()/df.groupby('tracking_id').count().install_datetime\n",
    "tmp_stat = stat_table(table=tmp_stat, result=revenue_by_install, col_name='revenue_install')\n",
    "heartless_machine(tablo=tablo, result=revenue_by_install, function=max)\n",
    "revenue_by_install"
   ]
  },
  {
   "cell_type": "markdown",
   "metadata": {},
   "source": [
    "Распределение достаточно равномерно"
   ]
  },
  {
   "cell_type": "markdown",
   "metadata": {},
   "source": [
    "**Выручка/число кликов**"
   ]
  },
  {
   "cell_type": "code",
   "execution_count": 13,
   "metadata": {
    "collapsed": false
   },
   "outputs": [
    {
     "data": {
      "text/plain": [
       "tracking_id\n",
       "457095801521389451     0.125779\n",
       "457100182639649595     0.136686\n",
       "529165038158632239     0.185874\n",
       "817383831807028900     0.167456\n",
       "1033522010023579020    0.204530\n",
       "1105628863007835516    0.177902\n",
       "dtype: float64"
      ]
     },
     "execution_count": 13,
     "metadata": {},
     "output_type": "execute_result"
    }
   ],
   "source": [
    "revenue_by_clicks = df.groupby('tracking_id')['revenue'].sum()/df.groupby('tracking_id').count().click_id\n",
    "tmp_stat = stat_table(table=tmp_stat, result=revenue_by_clicks, col_name='revenue_clicks')\n",
    "heartless_machine(tablo=tablo, result=revenue_by_clicks, function=max)\n",
    "revenue_by_clicks"
   ]
  },
  {
   "cell_type": "markdown",
   "metadata": {},
   "source": [
    "Тут уже достаточно интересно, есть явный лидер -- кампания **__...020__**, у нее самый высокое соотношение"
   ]
  },
  {
   "cell_type": "markdown",
   "metadata": {},
   "source": [
    "Посмотрим на **CPI**.\n",
    "\n",
    "Чем он ниже - тем лучше"
   ]
  },
  {
   "cell_type": "code",
   "execution_count": 14,
   "metadata": {
    "collapsed": false
   },
   "outputs": [
    {
     "data": {
      "text/plain": [
       "tracking_id\n",
       "457095801521389451     0.656431\n",
       "457100182639649595     0.507326\n",
       "529165038158632239     0.827455\n",
       "817383831807028900     0.614500\n",
       "1033522010023579020    0.786682\n",
       "1105628863007835516    0.652313\n",
       "Name: CPI, dtype: float64"
      ]
     },
     "execution_count": 14,
     "metadata": {},
     "output_type": "execute_result"
    }
   ],
   "source": [
    "CPI = df.groupby('tracking_id')['CPI'].mean()\n",
    "tmp_stat = stat_table(table=tmp_stat, result=CPI, col_name='CPI')\n",
    "## function(min) -- так как мы поощряем самый низкий\n",
    "heartless_machine(tablo=tablo, result=CPI, function=min)\n",
    "CPI"
   ]
  },
  {
   "cell_type": "markdown",
   "metadata": {},
   "source": [
    "Теперь посмотрим на статистики времени между **кликом и установкой**"
   ]
  },
  {
   "cell_type": "code",
   "execution_count": 15,
   "metadata": {
    "collapsed": true
   },
   "outputs": [],
   "source": [
    "def diff_time(x, y):\n",
    "    fmt = \"%Y-%m-%d %H:%M:%S\"\n",
    "    if isinstance(y, str):\n",
    "        click = datetime.strptime(x, fmt)\n",
    "        install = datetime.strptime(y, fmt)\n",
    "        return install - click"
   ]
  },
  {
   "cell_type": "code",
   "execution_count": 16,
   "metadata": {
    "collapsed": true
   },
   "outputs": [],
   "source": [
    "df['diff'] = df.apply(lambda x: diff_time(x['click_datetime'], x['install_datetime']), axis=1)"
   ]
  },
  {
   "cell_type": "markdown",
   "metadata": {},
   "source": [
    "**Максимальное время** между установкой и кликом"
   ]
  },
  {
   "cell_type": "code",
   "execution_count": 17,
   "metadata": {
    "collapsed": false
   },
   "outputs": [
    {
     "data": {
      "text/plain": [
       "tracking_id\n",
       "457095801521389451    9 days 02:39:49\n",
       "457100182639649595    6 days 12:33:02\n",
       "529165038158632239    2 days 19:12:59\n",
       "817383831807028900    7 days 14:17:12\n",
       "1033522010023579020   9 days 23:09:39\n",
       "1105628863007835516   2 days 00:36:36\n",
       "Name: diff, dtype: timedelta64[ns]"
      ]
     },
     "execution_count": 17,
     "metadata": {},
     "output_type": "execute_result"
    }
   ],
   "source": [
    "max_time = df.groupby('tracking_id')['diff'].max()\n",
    "tmp_stat = stat_table(table=tmp_stat, result=max_time, col_name='max_time')\n",
    "## function(min) -- так как мы поощряем меньшее время\n",
    "heartless_machine(tablo=tablo, result=max_time, function=min)\n",
    "max_time"
   ]
  },
  {
   "cell_type": "markdown",
   "metadata": {},
   "source": [
    "**Минимальное время** между кликом и установкой"
   ]
  },
  {
   "cell_type": "code",
   "execution_count": 18,
   "metadata": {
    "collapsed": false
   },
   "outputs": [
    {
     "data": {
      "text/plain": [
       "tracking_id\n",
       "457095801521389451    -6 days +08:13:46\n",
       "457100182639649595      0 days 00:00:01\n",
       "529165038158632239      0 days 00:00:08\n",
       "817383831807028900      0 days 00:00:05\n",
       "1033522010023579020   -2 days +13:05:48\n",
       "1105628863007835516     0 days 00:00:04\n",
       "Name: diff, dtype: timedelta64[ns]"
      ]
     },
     "execution_count": 18,
     "metadata": {},
     "output_type": "execute_result"
    }
   ],
   "source": [
    "min_time = df.groupby('tracking_id')['diff'].min()\n",
    "tmp_stat = stat_table(table=tmp_stat, result=min_time, col_name='min_time')\n",
    "## function(min) -- так как мы поощряем меньшее время\n",
    "heartless_machine(tablo=tablo, result=min_time, function=min)\n",
    "min_time"
   ]
  },
  {
   "cell_type": "markdown",
   "metadata": {},
   "source": [
    "~~Упс, выбросы.~~ \n",
    "\n",
    "Возьмем **медиану**"
   ]
  },
  {
   "cell_type": "code",
   "execution_count": 19,
   "metadata": {
    "collapsed": false
   },
   "outputs": [
    {
     "data": {
      "text/plain": [
       "tracking_id\n",
       "457095801521389451     0 days 00:02:45\n",
       "457100182639649595     0 days 00:03:08\n",
       "529165038158632239     0 days 00:02:22\n",
       "817383831807028900     0 days 00:03:07\n",
       "1033522010023579020    0 days 00:03:04\n",
       "1105628863007835516    0 days 00:02:02\n",
       "Name: diff, dtype: object"
      ]
     },
     "execution_count": 19,
     "metadata": {},
     "output_type": "execute_result"
    }
   ],
   "source": [
    "median_time = df.groupby('tracking_id')['diff'].apply(lambda x: str(x.median()).split('.')[0])\n",
    "tmp_stat = stat_table(table=tmp_stat, result=median_time, col_name='median_time')\n",
    "## function(min) -- так как мы поощряем меньшее время\n",
    "heartless_machine(tablo=tablo, result=median_time, function=min)\n",
    "median_time"
   ]
  },
  {
   "cell_type": "markdown",
   "metadata": {},
   "source": [
    "В принципе, выглядит убедительно, но возьмем **3 квартиль**"
   ]
  },
  {
   "cell_type": "code",
   "execution_count": 20,
   "metadata": {
    "collapsed": false
   },
   "outputs": [
    {
     "data": {
      "text/plain": [
       "tracking_id\n",
       "457095801521389451     0 days 00:20:31\n",
       "457100182639649595     0 days 00:22:53\n",
       "529165038158632239     0 days 00:10:17\n",
       "817383831807028900     0 days 00:20:56\n",
       "1033522010023579020    0 days 00:21:18\n",
       "1105628863007835516    0 days 00:17:40\n",
       "Name: diff, dtype: object"
      ]
     },
     "execution_count": 20,
     "metadata": {},
     "output_type": "execute_result"
    }
   ],
   "source": [
    "quan_time = df.groupby('tracking_id')['diff'].apply(lambda x: str(x.quantile(.75)).split('.')[0])\n",
    "tmp_stat = stat_table(table=tmp_stat, result=quan_time, col_name='quan_time')\n",
    "## function(min) -- так как мы поощряем меньшее время\n",
    "heartless_machine(tablo=tablo, result=quan_time, function=min)\n",
    "quan_time"
   ]
  },
  {
   "cell_type": "markdown",
   "metadata": {},
   "source": [
    "Очень выделяется 3 кампания, тратится почти в 2 раза меньше времени на установку приложения, выглядит любопытно"
   ]
  },
  {
   "cell_type": "markdown",
   "metadata": {},
   "source": [
    "Посмотрим на распределение разных типов устройств по кампаниям, для этого посчитаем **процент планшетов от общего числа устройств**. \n",
    "\n",
    "Это влияет мало на что, но опять же, все зависит от KPI и целей кампании"
   ]
  },
  {
   "cell_type": "code",
   "execution_count": 21,
   "metadata": {
    "collapsed": false
   },
   "outputs": [
    {
     "data": {
      "text/plain": [
       "tracking_id\n",
       "457095801521389451      6.426332\n",
       "457100182639649595      8.087536\n",
       "529165038158632239     14.392523\n",
       "817383831807028900      8.844765\n",
       "1033522010023579020     9.926794\n",
       "1105628863007835516    12.345679\n",
       "dtype: float64"
      ]
     },
     "execution_count": 21,
     "metadata": {},
     "output_type": "execute_result"
    }
   ],
   "source": [
    "tablet_in_campaign = df.groupby('tracking_id')['device_type'].value_counts().unstack(level=1).apply(lambda x: float(x['tablet'])/sum(x), axis=1) * 100 \n",
    "tmp_stat = stat_table(table=tmp_stat, result=tablet_in_campaign, col_name='tablet_in_campaign')\n",
    "heartless_machine(tablo=tablo, result=tablet_in_campaign, function=max)\n",
    "tablet_in_campaign"
   ]
  },
  {
   "cell_type": "markdown",
   "metadata": {},
   "source": [
    "У кампании **...239** самое высокое относительное число планшетов среди всех устройств. \n",
    "Может быть полезно"
   ]
  },
  {
   "cell_type": "markdown",
   "metadata": {},
   "source": [
    "Посмотрим на выручку в кампании в разрезе стран"
   ]
  },
  {
   "cell_type": "code",
   "execution_count": 22,
   "metadata": {
    "collapsed": false
   },
   "outputs": [
    {
     "data": {
      "text/plain": [
       "device_locale\n",
       "ru-RU    14471.429766\n",
       "uk-UA      350.041001\n",
       "ru-UA       38.494243\n",
       "ru-BY       36.487851\n",
       "ru-KZ       36.468879\n",
       "en-US       29.709977\n",
       "en-GB       13.368541\n",
       "kk-KZ        6.320937\n",
       "ru           5.693657\n",
       "de-DE        3.007240\n",
       "lv-LV        2.714803\n",
       "ru-US        1.930816\n",
       "et-EE        1.899128\n",
       "en-NZ        1.703918\n",
       "bg-BG        1.387474\n",
       "ru-AM        1.358674\n",
       "ru-GB        1.299618\n",
       "en-SG        1.114890\n",
       "Name: revenue, dtype: float64"
      ]
     },
     "execution_count": 22,
     "metadata": {},
     "output_type": "execute_result"
    }
   ],
   "source": [
    "df.groupby('device_locale')['revenue'].sum().sort_values(ascending=False)"
   ]
  },
  {
   "cell_type": "markdown",
   "metadata": {},
   "source": [
    "Ожидаемо, пользователи из **России** принесли максимальный доход, далее идут страны **СНГ**, неплохо проявляют себя пользователи из **США** и **Великобритании**"
   ]
  },
  {
   "cell_type": "markdown",
   "metadata": {},
   "source": [
    "Построим график **суммы заработанных средств в каждой кампании в каждой стране**.\n",
    "\n",
    "Прологарифмируем ось revenue для наглядности"
   ]
  },
  {
   "cell_type": "code",
   "execution_count": 23,
   "metadata": {
    "collapsed": false
   },
   "outputs": [
    {
     "data": {
      "image/png": "[encoded data removed]",
      "text/plain": [
       "<matplotlib.figure.Figure at 0x1032a2450>"
      ]
     },
     "metadata": {},
     "output_type": "display_data"
    }
   ],
   "source": [
    "pd.DataFrame(df.groupby(['tracking_id', 'device_locale'])['revenue'].sum()).unstack(level=0).plot(\n",
    "                        kind='barh', \n",
    "                        logx=True,\n",
    "                        stacked=True,\n",
    "                        title='Revenue by countries in each campaign', \n",
    "                        grid=True, \n",
    "                        figsize=(10, 5),\n",
    "                        width=0.95)\n",
    "fontsize = 15\n",
    "plt.ylabel('Country', fontsize=fontsize)\n",
    "plt.xlabel('Revenue', fontsize=fontsize)\n",
    "plt.legend([\"Campaign {}\".format(i) for i in df.tracking_id.unique()], loc='lower right');"
   ]
  },
  {
   "cell_type": "markdown",
   "metadata": {},
   "source": [
    "Посмотрим на **распределение марок телефонов в кампании**, хотя эта информация не особо полезна, так как все кампании велись для *android-девайсов*, но в в случае разных ОС можно было бы делать определенные выводы. \n",
    "\n",
    "Тут же самые популярные марки во всех кампаниях - **Samsung и Lenovo**"
   ]
  },
  {
   "cell_type": "code",
   "execution_count": 24,
   "metadata": {
    "collapsed": false
   },
   "outputs": [
    {
     "data": {
      "text/plain": [
       "array([[(nan, 7218), ('Samsung', 266), ('Lenovo', 73), ('LG', 39)],\n",
       "       [(nan, 10871), ('Samsung', 491), ('Lenovo', 104), ('LG', 80)],\n",
       "       [(nan, 3926), ('Samsung', 144), ('Lenovo', 70), ('Zte', 32)],\n",
       "       [(nan, 4552), ('Samsung', 213), ('Lenovo', 70), ('LG', 52)],\n",
       "       [(nan, 44893), ('Samsung', 2761), ('Lenovo', 713), ('LG', 411)],\n",
       "       [(nan, 614), ('Samsung', 26), ('Lenovo', 6), ('Alcatel', 6)]], dtype=object)"
      ]
     },
     "execution_count": 24,
     "metadata": {},
     "output_type": "execute_result"
    }
   ],
   "source": [
    "df.groupby('tracking_id')['device_manufacturer'].apply(lambda x: Counter(x).most_common(4)).values"
   ]
  },
  {
   "cell_type": "markdown",
   "metadata": {},
   "source": [
    "**Итак, подведем итоги:**"
   ]
  },
  {
   "cell_type": "markdown",
   "metadata": {},
   "source": [
    "Бездушная машина в нашем неофициальном зачете так распределила голоса:"
   ]
  },
  {
   "cell_type": "code",
   "execution_count": 25,
   "metadata": {
    "collapsed": false
   },
   "outputs": [
    {
     "data": {
      "text/plain": [
       "defaultdict(int,\n",
       "            {457095801521389451: 1,\n",
       "             457100182639649595: 2,\n",
       "             529165038158632239: 2,\n",
       "             817383831807028900: 0,\n",
       "             1033522010023579020: 3,\n",
       "             1105628863007835516: 2})"
      ]
     },
     "execution_count": 25,
     "metadata": {},
     "output_type": "execute_result"
    }
   ],
   "source": [
    "tablo"
   ]
  },
  {
   "cell_type": "markdown",
   "metadata": {},
   "source": [
    "Посмотрим на статистику по каждому срезу, которую мы так скурпулезно собирали"
   ]
  },
  {
   "cell_type": "code",
   "execution_count": 26,
   "metadata": {
    "collapsed": false
   },
   "outputs": [
    {
     "data": {
      "text/html": [
       "<div>\n",
       "<table border=\"1\" class=\"dataframe\">\n",
       "  <thead>\n",
       "    <tr style=\"text-align: right;\">\n",
       "      <th></th>\n",
       "      <th>revenue</th>\n",
       "      <th>inst_click</th>\n",
       "      <th>revenue_install</th>\n",
       "      <th>revenue_clicks</th>\n",
       "      <th>CPI</th>\n",
       "      <th>max_time</th>\n",
       "      <th>min_time</th>\n",
       "      <th>median_time</th>\n",
       "      <th>quan_time</th>\n",
       "      <th>tablet_in_campaign</th>\n",
       "    </tr>\n",
       "    <tr>\n",
       "      <th>tracking_id</th>\n",
       "      <th></th>\n",
       "      <th></th>\n",
       "      <th></th>\n",
       "      <th></th>\n",
       "      <th></th>\n",
       "      <th></th>\n",
       "      <th></th>\n",
       "      <th></th>\n",
       "      <th></th>\n",
       "      <th></th>\n",
       "    </tr>\n",
       "  </thead>\n",
       "  <tbody>\n",
       "    <tr>\n",
       "      <th>457095801521389451</th>\n",
       "      <td>988.119196</td>\n",
       "      <td>8.121181</td>\n",
       "      <td>1.548776</td>\n",
       "      <td>0.125779</td>\n",
       "      <td>0.656431</td>\n",
       "      <td>9 days 02:39:49</td>\n",
       "      <td>-6 days +08:13:46</td>\n",
       "      <td>0 days 00:02:45</td>\n",
       "      <td>0 days 00:20:31</td>\n",
       "      <td>6.426332</td>\n",
       "    </tr>\n",
       "    <tr>\n",
       "      <th>457100182639649595</th>\n",
       "      <td>1629.568463</td>\n",
       "      <td>8.815635</td>\n",
       "      <td>1.550493</td>\n",
       "      <td>0.136686</td>\n",
       "      <td>0.507326</td>\n",
       "      <td>6 days 12:33:02</td>\n",
       "      <td>0 days 00:00:01</td>\n",
       "      <td>0 days 00:03:08</td>\n",
       "      <td>0 days 00:22:53</td>\n",
       "      <td>8.087536</td>\n",
       "    </tr>\n",
       "    <tr>\n",
       "      <th>529165038158632239</th>\n",
       "      <td>829.185564</td>\n",
       "      <td>11.992827</td>\n",
       "      <td>1.549880</td>\n",
       "      <td>0.185874</td>\n",
       "      <td>0.827455</td>\n",
       "      <td>2 days 19:12:59</td>\n",
       "      <td>0 days 00:00:08</td>\n",
       "      <td>0 days 00:02:22</td>\n",
       "      <td>0 days 00:10:17</td>\n",
       "      <td>14.392523</td>\n",
       "    </tr>\n",
       "    <tr>\n",
       "      <th>817383831807028900</th>\n",
       "      <td>855.027816</td>\n",
       "      <td>10.849980</td>\n",
       "      <td>1.543372</td>\n",
       "      <td>0.167456</td>\n",
       "      <td>0.614500</td>\n",
       "      <td>7 days 14:17:12</td>\n",
       "      <td>0 days 00:00:05</td>\n",
       "      <td>0 days 00:03:07</td>\n",
       "      <td>0 days 00:20:56</td>\n",
       "      <td>8.844765</td>\n",
       "    </tr>\n",
       "    <tr>\n",
       "      <th>1033522010023579020</th>\n",
       "      <td>10578.888807</td>\n",
       "      <td>13.204957</td>\n",
       "      <td>1.548886</td>\n",
       "      <td>0.204530</td>\n",
       "      <td>0.786682</td>\n",
       "      <td>9 days 23:09:39</td>\n",
       "      <td>-2 days +13:05:48</td>\n",
       "      <td>0 days 00:03:04</td>\n",
       "      <td>0 days 00:21:18</td>\n",
       "      <td>9.926794</td>\n",
       "    </tr>\n",
       "    <tr>\n",
       "      <th>1105628863007835516</th>\n",
       "      <td>123.641566</td>\n",
       "      <td>11.654676</td>\n",
       "      <td>1.526439</td>\n",
       "      <td>0.177902</td>\n",
       "      <td>0.652313</td>\n",
       "      <td>2 days 00:36:36</td>\n",
       "      <td>0 days 00:00:04</td>\n",
       "      <td>0 days 00:02:02</td>\n",
       "      <td>0 days 00:17:40</td>\n",
       "      <td>12.345679</td>\n",
       "    </tr>\n",
       "  </tbody>\n",
       "</table>\n",
       "</div>"
      ],
      "text/plain": [
       "                          revenue  inst_click  revenue_install  \\\n",
       "tracking_id                                                      \n",
       "457095801521389451     988.119196    8.121181         1.548776   \n",
       "457100182639649595    1629.568463    8.815635         1.550493   \n",
       "529165038158632239     829.185564   11.992827         1.549880   \n",
       "817383831807028900     855.027816   10.849980         1.543372   \n",
       "1033522010023579020  10578.888807   13.204957         1.548886   \n",
       "1105628863007835516    123.641566   11.654676         1.526439   \n",
       "\n",
       "                     revenue_clicks       CPI        max_time  \\\n",
       "tracking_id                                                     \n",
       "457095801521389451         0.125779  0.656431 9 days 02:39:49   \n",
       "457100182639649595         0.136686  0.507326 6 days 12:33:02   \n",
       "529165038158632239         0.185874  0.827455 2 days 19:12:59   \n",
       "817383831807028900         0.167456  0.614500 7 days 14:17:12   \n",
       "1033522010023579020        0.204530  0.786682 9 days 23:09:39   \n",
       "1105628863007835516        0.177902  0.652313 2 days 00:36:36   \n",
       "\n",
       "                             min_time      median_time        quan_time  \\\n",
       "tracking_id                                                               \n",
       "457095801521389451  -6 days +08:13:46  0 days 00:02:45  0 days 00:20:31   \n",
       "457100182639649595    0 days 00:00:01  0 days 00:03:08  0 days 00:22:53   \n",
       "529165038158632239    0 days 00:00:08  0 days 00:02:22  0 days 00:10:17   \n",
       "817383831807028900    0 days 00:00:05  0 days 00:03:07  0 days 00:20:56   \n",
       "1033522010023579020 -2 days +13:05:48  0 days 00:03:04  0 days 00:21:18   \n",
       "1105628863007835516   0 days 00:00:04  0 days 00:02:02  0 days 00:17:40   \n",
       "\n",
       "                     tablet_in_campaign  \n",
       "tracking_id                              \n",
       "457095801521389451             6.426332  \n",
       "457100182639649595             8.087536  \n",
       "529165038158632239            14.392523  \n",
       "817383831807028900             8.844765  \n",
       "1033522010023579020            9.926794  \n",
       "1105628863007835516           12.345679  "
      ]
     },
     "execution_count": 26,
     "metadata": {},
     "output_type": "execute_result"
    }
   ],
   "source": [
    "tmp_stat"
   ]
  },
  {
   "cell_type": "markdown",
   "metadata": {},
   "source": [
    "По совокупности, **победила кампания ...20**, так как:\n",
    "- наибольшая выручка;\n",
    "- большИй процент установивших после клика;\n",
    "- не самый высокий CPI;\n",
    "- приемлимые медиана и квантиль времени между кликом и установкой;\n",
    "- относительно высокий процент планшетов (считаем, что это важно)"
   ]
  },
  {
   "cell_type": "markdown",
   "metadata": {},
   "source": [
    "Но есть 3 претендента на второе место -- **...595, ...516 и ...239**\n",
    "\n",
    "- **...595** - больше выручка, ниже CPI (что может быть важно), но меньший процент людей ее устанавливает после клика;\n",
    "\n",
    "- **...516** - меньше всего выручки, но достаточно высокий процент установок;\n",
    "\n",
    "- **...239** кампания, которая выделялась самым малым квантилем времени между кликой и установкой, выделяется самым высоким процентом планшетов в кампании, самым высоким CPI, но, в целом, выглядит очень неплохо"
   ]
  },
  {
   "cell_type": "markdown",
   "metadata": {
    "collapsed": true
   },
   "source": [
    "Самой худшей же я бы назвал кампанию **...451** с невысоким revenue, самым низким процентом установок, и не самым низким CPI."
   ]
  }
 ],
 "metadata": {
  "kernelspec": {
   "display_name": "Python 2",
   "language": "python",
   "name": "python2"
  },
  "language_info": {
   "codemirror_mode": {
    "name": "ipython",
    "version": 2
   },
   "file_extension": ".py",
   "mimetype": "text/x-python",
   "name": "python",
   "nbconvert_exporter": "python",
   "pygments_lexer": "ipython2",
   "version": "2.7.9"
  },
  "urth": {
   "dashboard": {
    "cellMargin": 10,
    "defaultCellHeight": 20,
    "layoutStrategy": "packed",
    "maxColumns": 12
   }
  }
 },
 "nbformat": 4,
 "nbformat_minor": 1
}
